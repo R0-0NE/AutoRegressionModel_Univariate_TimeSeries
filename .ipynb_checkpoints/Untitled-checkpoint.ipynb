{
 "cells": [
  {
   "cell_type": "code",
   "execution_count": null,
   "id": "129de7d6",
   "metadata": {},
   "outputs": [],
   "source": [
    "from pandas import read_csv\n",
    "from matplotlib import pyplot\n",
    "series = read_csv('https://raw.githubusercontent.com/naru94/Autoregression-Model-for-Univariate-Time-Series/main/dataset/daily-min-temperatures.csv', header=0, index_col=0)\n",
    "print(series.head())\n",
    "series.plot()\n",
    "pyplot.show()"
   ]
  },
  {
   "cell_type": "code",
   "execution_count": null,
   "id": "768436dd",
   "metadata": {},
   "outputs": [],
   "source": [
    "from pandas import read_csv\n",
    "from pandas import DataFrame\n",
    "from pandas import concat\n",
    "from matplotlib import pyplot\n",
    "\n",
    "series =read_csv('dataset/daily-min-tempearatures.csv',header=0,index_col=0)\n",
    "values=DataFrame(series.values)\n",
    "dataframe = concat([values.shift(1),values],axis=1)\n",
    "dataframe.columns=['t-1','t+1']\n",
    "result=dataframe.corr()\n",
    "print(result)"
   ]
  }
 ],
 "metadata": {
  "kernelspec": {
   "display_name": "Python 3 (ipykernel)",
   "language": "python",
   "name": "python3"
  },
  "language_info": {
   "codemirror_mode": {
    "name": "ipython",
    "version": 3
   },
   "file_extension": ".py",
   "mimetype": "text/x-python",
   "name": "python",
   "nbconvert_exporter": "python",
   "pygments_lexer": "ipython3",
   "version": "3.11.3"
  }
 },
 "nbformat": 4,
 "nbformat_minor": 5
}
